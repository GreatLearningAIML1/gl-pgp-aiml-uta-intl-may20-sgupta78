{
 "cells": [
  {
   "cell_type": "code",
   "execution_count": 36,
   "metadata": {
    "executionInfo": {
     "elapsed": 1742,
     "status": "ok",
     "timestamp": 1602882519941,
     "user": {
      "displayName": "Sanjay Gupta",
      "photoUrl": "",
      "userId": "09251377476737457600"
     },
     "user_tz": 420
    },
    "id": "m4jYIWFxOeEt"
   },
   "outputs": [],
   "source": [
    "import numpy as np\n",
    "import pandas as pd\n",
    "\n",
    "import matplotlib as plt\n",
    "%matplotlib inline\n",
    "import seaborn as sns\n",
    "sns.set(color_codes=True)\n",
    "\n",
    "import warnings\n",
    "warnings.filterwarnings('ignore')"
   ]
  },
  {
   "cell_type": "code",
   "execution_count": 37,
   "metadata": {
    "colab": {
     "base_uri": "https://localhost:8080/",
     "height": 222
    },
    "executionInfo": {
     "elapsed": 1719,
     "status": "ok",
     "timestamp": 1602882519943,
     "user": {
      "displayName": "Sanjay Gupta",
      "photoUrl": "",
      "userId": "09251377476737457600"
     },
     "user_tz": 420
    },
    "id": "kV9Y66R9Om0o",
    "outputId": "f8d7a79b-e257-4ec5-97fe-b3a4a8578965"
   },
   "outputs": [
    {
     "data": {
      "text/html": [
       "<div>\n",
       "<style scoped>\n",
       "    .dataframe tbody tr th:only-of-type {\n",
       "        vertical-align: middle;\n",
       "    }\n",
       "\n",
       "    .dataframe tbody tr th {\n",
       "        vertical-align: top;\n",
       "    }\n",
       "\n",
       "    .dataframe thead th {\n",
       "        text-align: right;\n",
       "    }\n",
       "</style>\n",
       "<table border=\"1\" class=\"dataframe\">\n",
       "  <thead>\n",
       "    <tr style=\"text-align: right;\">\n",
       "      <th></th>\n",
       "      <th>RowNumber</th>\n",
       "      <th>CustomerId</th>\n",
       "      <th>Surname</th>\n",
       "      <th>CreditScore</th>\n",
       "      <th>Geography</th>\n",
       "      <th>Gender</th>\n",
       "      <th>Age</th>\n",
       "      <th>Tenure</th>\n",
       "      <th>Balance</th>\n",
       "      <th>NumOfProducts</th>\n",
       "      <th>HasCrCard</th>\n",
       "      <th>IsActiveMember</th>\n",
       "      <th>EstimatedSalary</th>\n",
       "      <th>Exited</th>\n",
       "    </tr>\n",
       "  </thead>\n",
       "  <tbody>\n",
       "    <tr>\n",
       "      <th>0</th>\n",
       "      <td>1</td>\n",
       "      <td>15634602</td>\n",
       "      <td>Hargrave</td>\n",
       "      <td>619</td>\n",
       "      <td>France</td>\n",
       "      <td>Female</td>\n",
       "      <td>42</td>\n",
       "      <td>2</td>\n",
       "      <td>0.00</td>\n",
       "      <td>1</td>\n",
       "      <td>1</td>\n",
       "      <td>1</td>\n",
       "      <td>101348.88</td>\n",
       "      <td>1</td>\n",
       "    </tr>\n",
       "    <tr>\n",
       "      <th>1</th>\n",
       "      <td>2</td>\n",
       "      <td>15647311</td>\n",
       "      <td>Hill</td>\n",
       "      <td>608</td>\n",
       "      <td>Spain</td>\n",
       "      <td>Female</td>\n",
       "      <td>41</td>\n",
       "      <td>1</td>\n",
       "      <td>83807.86</td>\n",
       "      <td>1</td>\n",
       "      <td>0</td>\n",
       "      <td>1</td>\n",
       "      <td>112542.58</td>\n",
       "      <td>0</td>\n",
       "    </tr>\n",
       "    <tr>\n",
       "      <th>2</th>\n",
       "      <td>3</td>\n",
       "      <td>15619304</td>\n",
       "      <td>Onio</td>\n",
       "      <td>502</td>\n",
       "      <td>France</td>\n",
       "      <td>Female</td>\n",
       "      <td>42</td>\n",
       "      <td>8</td>\n",
       "      <td>159660.80</td>\n",
       "      <td>3</td>\n",
       "      <td>1</td>\n",
       "      <td>0</td>\n",
       "      <td>113931.57</td>\n",
       "      <td>1</td>\n",
       "    </tr>\n",
       "    <tr>\n",
       "      <th>3</th>\n",
       "      <td>4</td>\n",
       "      <td>15701354</td>\n",
       "      <td>Boni</td>\n",
       "      <td>699</td>\n",
       "      <td>France</td>\n",
       "      <td>Female</td>\n",
       "      <td>39</td>\n",
       "      <td>1</td>\n",
       "      <td>0.00</td>\n",
       "      <td>2</td>\n",
       "      <td>0</td>\n",
       "      <td>0</td>\n",
       "      <td>93826.63</td>\n",
       "      <td>0</td>\n",
       "    </tr>\n",
       "    <tr>\n",
       "      <th>4</th>\n",
       "      <td>5</td>\n",
       "      <td>15737888</td>\n",
       "      <td>Mitchell</td>\n",
       "      <td>850</td>\n",
       "      <td>Spain</td>\n",
       "      <td>Female</td>\n",
       "      <td>43</td>\n",
       "      <td>2</td>\n",
       "      <td>125510.82</td>\n",
       "      <td>1</td>\n",
       "      <td>1</td>\n",
       "      <td>1</td>\n",
       "      <td>79084.10</td>\n",
       "      <td>0</td>\n",
       "    </tr>\n",
       "  </tbody>\n",
       "</table>\n",
       "</div>"
      ],
      "text/plain": [
       "   RowNumber  CustomerId   Surname  ...  IsActiveMember EstimatedSalary Exited\n",
       "0          1    15634602  Hargrave  ...               1       101348.88      1\n",
       "1          2    15647311      Hill  ...               1       112542.58      0\n",
       "2          3    15619304      Onio  ...               0       113931.57      1\n",
       "3          4    15701354      Boni  ...               0        93826.63      0\n",
       "4          5    15737888  Mitchell  ...               1        79084.10      0\n",
       "\n",
       "[5 rows x 14 columns]"
      ]
     },
     "execution_count": 37,
     "metadata": {
      "tags": []
     },
     "output_type": "execute_result"
    }
   ],
   "source": [
    "bankdf = pd.read_csv('bank.csv')\n",
    "bankdf.head()"
   ]
  },
  {
   "cell_type": "code",
   "execution_count": 38,
   "metadata": {
    "executionInfo": {
     "elapsed": 1703,
     "status": "ok",
     "timestamp": 1602882519947,
     "user": {
      "displayName": "Sanjay Gupta",
      "photoUrl": "",
      "userId": "09251377476737457600"
     },
     "user_tz": 420
    },
    "id": "FGVTLKvHOxIH"
   },
   "outputs": [],
   "source": [
    "bankdf.drop(['RowNumber','CustomerId','Surname'], axis=1, inplace=True)"
   ]
  },
  {
   "cell_type": "code",
   "execution_count": 39,
   "metadata": {
    "executionInfo": {
     "elapsed": 1695,
     "status": "ok",
     "timestamp": 1602882519949,
     "user": {
      "displayName": "Sanjay Gupta",
      "photoUrl": "",
      "userId": "09251377476737457600"
     },
     "user_tz": 420
    },
    "id": "NiINQBUwO1Nm"
   },
   "outputs": [],
   "source": [
    "from sklearn.preprocessing import LabelEncoder, OneHotEncoder\n",
    "from sklearn.compose import ColumnTransformer"
   ]
  },
  {
   "cell_type": "code",
   "execution_count": 40,
   "metadata": {
    "executionInfo": {
     "elapsed": 1687,
     "status": "ok",
     "timestamp": 1602882519951,
     "user": {
      "displayName": "Sanjay Gupta",
      "photoUrl": "",
      "userId": "09251377476737457600"
     },
     "user_tz": 420
    },
    "id": "MO-9w2u1O7Hs"
   },
   "outputs": [],
   "source": [
    "label_X_country_encoder = LabelEncoder()\n",
    "bankdf['Geography'] = label_X_country_encoder.fit_transform(bankdf['Geography'])\n"
   ]
  },
  {
   "cell_type": "code",
   "execution_count": 41,
   "metadata": {
    "executionInfo": {
     "elapsed": 1679,
     "status": "ok",
     "timestamp": 1602882519952,
     "user": {
      "displayName": "Sanjay Gupta",
      "photoUrl": "",
      "userId": "09251377476737457600"
     },
     "user_tz": 420
    },
    "id": "NZ2Av-F6SETL"
   },
   "outputs": [],
   "source": [
    "bankdf['Gender'] = label_X_country_encoder.fit_transform(bankdf['Gender'])"
   ]
  },
  {
   "cell_type": "code",
   "execution_count": 42,
   "metadata": {
    "executionInfo": {
     "elapsed": 1669,
     "status": "ok",
     "timestamp": 1602882519953,
     "user": {
      "displayName": "Sanjay Gupta",
      "photoUrl": "",
      "userId": "09251377476737457600"
     },
     "user_tz": 420
    },
    "id": "XNY6G77ZO-ld"
   },
   "outputs": [],
   "source": [
    "countryhotencoder = ColumnTransformer([( \"countries\", OneHotEncoder(), ['Geography'])], remainder=\"passthrough\")\n",
    "bankdf = countryhotencoder.fit_transform(bankdf)"
   ]
  },
  {
   "cell_type": "code",
   "execution_count": 43,
   "metadata": {
    "colab": {
     "base_uri": "https://localhost:8080/",
     "height": 243
    },
    "executionInfo": {
     "elapsed": 1656,
     "status": "ok",
     "timestamp": 1602882519954,
     "user": {
      "displayName": "Sanjay Gupta",
      "photoUrl": "",
      "userId": "09251377476737457600"
     },
     "user_tz": 420
    },
    "id": "PKe4TtBLPoa8",
    "outputId": "3cd37e5f-b94b-4bde-8f59-89c652c320cb"
   },
   "outputs": [
    {
     "data": {
      "text/plain": [
       "array([[1.0000000e+00, 0.0000000e+00, 0.0000000e+00, ..., 1.0000000e+00,\n",
       "        1.0134888e+05, 1.0000000e+00],\n",
       "       [0.0000000e+00, 0.0000000e+00, 1.0000000e+00, ..., 1.0000000e+00,\n",
       "        1.1254258e+05, 0.0000000e+00],\n",
       "       [1.0000000e+00, 0.0000000e+00, 0.0000000e+00, ..., 0.0000000e+00,\n",
       "        1.1393157e+05, 1.0000000e+00],\n",
       "       ...,\n",
       "       [1.0000000e+00, 0.0000000e+00, 0.0000000e+00, ..., 1.0000000e+00,\n",
       "        4.2085580e+04, 1.0000000e+00],\n",
       "       [0.0000000e+00, 1.0000000e+00, 0.0000000e+00, ..., 0.0000000e+00,\n",
       "        9.2888520e+04, 1.0000000e+00],\n",
       "       [1.0000000e+00, 0.0000000e+00, 0.0000000e+00, ..., 0.0000000e+00,\n",
       "        3.8190780e+04, 0.0000000e+00]])"
      ]
     },
     "execution_count": 43,
     "metadata": {
      "tags": []
     },
     "output_type": "execute_result"
    }
   ],
   "source": [
    "bankdf.shape\n",
    "bankdf"
   ]
  },
  {
   "cell_type": "code",
   "execution_count": 44,
   "metadata": {
    "colab": {
     "base_uri": "https://localhost:8080/",
     "height": 35
    },
    "executionInfo": {
     "elapsed": 1641,
     "status": "ok",
     "timestamp": 1602882519956,
     "user": {
      "displayName": "Sanjay Gupta",
      "photoUrl": "",
      "userId": "09251377476737457600"
     },
     "user_tz": 420
    },
    "id": "YlnS0XJWP5hc",
    "outputId": "72bd6193-1c99-402b-8b1c-ab24c0d8e007"
   },
   "outputs": [
    {
     "data": {
      "text/plain": [
       "(10000, 12)"
      ]
     },
     "execution_count": 44,
     "metadata": {
      "tags": []
     },
     "output_type": "execute_result"
    }
   ],
   "source": [
    "X = bankdf[:,0:12]\n",
    "y=bankdf[:,-1]\n",
    "y\n",
    "X.shape"
   ]
  },
  {
   "cell_type": "code",
   "execution_count": 45,
   "metadata": {
    "executionInfo": {
     "elapsed": 1628,
     "status": "ok",
     "timestamp": 1602882519958,
     "user": {
      "displayName": "Sanjay Gupta",
      "photoUrl": "",
      "userId": "09251377476737457600"
     },
     "user_tz": 420
    },
    "id": "xYAZUpWKRCCi"
   },
   "outputs": [],
   "source": [
    "from sklearn import preprocessing\n",
    "from sklearn.model_selection import train_test_split"
   ]
  },
  {
   "cell_type": "code",
   "execution_count": 46,
   "metadata": {
    "executionInfo": {
     "elapsed": 1620,
     "status": "ok",
     "timestamp": 1602882519959,
     "user": {
      "displayName": "Sanjay Gupta",
      "photoUrl": "",
      "userId": "09251377476737457600"
     },
     "user_tz": 420
    },
    "id": "UOgZH-IaSuJX"
   },
   "outputs": [],
   "source": [
    "x_train, x_test, y_train, y_test = train_test_split(X, y, test_size=0.3, random_state=3)"
   ]
  },
  {
   "cell_type": "code",
   "execution_count": 47,
   "metadata": {
    "executionInfo": {
     "elapsed": 1613,
     "status": "ok",
     "timestamp": 1602882519961,
     "user": {
      "displayName": "Sanjay Gupta",
      "photoUrl": "",
      "userId": "09251377476737457600"
     },
     "user_tz": 420
    },
    "id": "snjGdd3vRjwI"
   },
   "outputs": [],
   "source": [
    "from sklearn.preprocessing import StandardScaler\n",
    "sc=StandardScaler()\n",
    "x_train = sc.fit_transform(x_train)\n",
    "x_test = sc.transform(x_test)"
   ]
  },
  {
   "cell_type": "code",
   "execution_count": 48,
   "metadata": {
    "executionInfo": {
     "elapsed": 1595,
     "status": "ok",
     "timestamp": 1602882519964,
     "user": {
      "displayName": "Sanjay Gupta",
      "photoUrl": "",
      "userId": "09251377476737457600"
     },
     "user_tz": 420
    },
    "id": "LlSVcYntSa1v"
   },
   "outputs": [],
   "source": [
    "import tensorflow as tf\n",
    "from tensorflow.keras.models import Sequential\n",
    "from tensorflow.keras.layers import Dense, Dropout\n",
    "from tensorflow.keras import optimizers\n",
    "\n",
    "from sklearn.metrics import accuracy_score, confusion_matrix, precision_score, recall_score, f1_score, precision_recall_curve, auc"
   ]
  },
  {
   "cell_type": "code",
   "execution_count": 49,
   "metadata": {
    "colab": {
     "base_uri": "https://localhost:8080/",
     "height": 35
    },
    "executionInfo": {
     "elapsed": 1582,
     "status": "ok",
     "timestamp": 1602882519966,
     "user": {
      "displayName": "Sanjay Gupta",
      "photoUrl": "",
      "userId": "09251377476737457600"
     },
     "user_tz": 420
    },
    "id": "Chh01guvTvCM",
    "outputId": "c62638a2-7f18-4c6b-bd98-79e4b7746a98"
   },
   "outputs": [
    {
     "data": {
      "text/plain": [
       "(7000, 12)"
      ]
     },
     "execution_count": 49,
     "metadata": {
      "tags": []
     },
     "output_type": "execute_result"
    }
   ],
   "source": [
    "x_train.shape"
   ]
  },
  {
   "cell_type": "code",
   "execution_count": 50,
   "metadata": {
    "colab": {
     "base_uri": "https://localhost:8080/",
     "height": 1000
    },
    "executionInfo": {
     "elapsed": 9908,
     "status": "ok",
     "timestamp": 1602882528305,
     "user": {
      "displayName": "Sanjay Gupta",
      "photoUrl": "",
      "userId": "09251377476737457600"
     },
     "user_tz": 420
    },
    "id": "4w7BQLgwSjPm",
    "outputId": "627ea561-e38c-45cc-f4c1-a4f79997b027"
   },
   "outputs": [
    {
     "name": "stdout",
     "output_type": "stream",
     "text": [
      "Epoch 1/200\n",
      "14/14 [==============================] - 0s 2ms/step - loss: 0.8979 - accuracy: 0.3314\n",
      "Epoch 2/200\n",
      "14/14 [==============================] - 0s 2ms/step - loss: 0.8498 - accuracy: 0.3666\n",
      "Epoch 3/200\n",
      "14/14 [==============================] - 0s 2ms/step - loss: 0.8085 - accuracy: 0.4079\n",
      "Epoch 4/200\n",
      "14/14 [==============================] - 0s 2ms/step - loss: 0.7784 - accuracy: 0.4411\n",
      "Epoch 5/200\n",
      "14/14 [==============================] - 0s 2ms/step - loss: 0.7519 - accuracy: 0.4754\n",
      "Epoch 6/200\n",
      "14/14 [==============================] - 0s 2ms/step - loss: 0.7246 - accuracy: 0.5076\n",
      "Epoch 7/200\n",
      "14/14 [==============================] - 0s 2ms/step - loss: 0.7044 - accuracy: 0.5413\n",
      "Epoch 8/200\n",
      "14/14 [==============================] - 0s 2ms/step - loss: 0.6855 - accuracy: 0.5770\n",
      "Epoch 9/200\n",
      "14/14 [==============================] - 0s 2ms/step - loss: 0.6700 - accuracy: 0.6093\n",
      "Epoch 10/200\n",
      "14/14 [==============================] - 0s 2ms/step - loss: 0.6553 - accuracy: 0.6457\n",
      "Epoch 11/200\n",
      "14/14 [==============================] - 0s 2ms/step - loss: 0.6387 - accuracy: 0.6766\n",
      "Epoch 12/200\n",
      "14/14 [==============================] - 0s 2ms/step - loss: 0.6276 - accuracy: 0.7063\n",
      "Epoch 13/200\n",
      "14/14 [==============================] - 0s 2ms/step - loss: 0.6157 - accuracy: 0.7259\n",
      "Epoch 14/200\n",
      "14/14 [==============================] - 0s 2ms/step - loss: 0.6062 - accuracy: 0.7443\n",
      "Epoch 15/200\n",
      "14/14 [==============================] - 0s 2ms/step - loss: 0.5925 - accuracy: 0.7631\n",
      "Epoch 16/200\n",
      "14/14 [==============================] - 0s 2ms/step - loss: 0.5887 - accuracy: 0.7651\n",
      "Epoch 17/200\n",
      "14/14 [==============================] - 0s 2ms/step - loss: 0.5800 - accuracy: 0.7721\n",
      "Epoch 18/200\n",
      "14/14 [==============================] - 0s 2ms/step - loss: 0.5689 - accuracy: 0.7759\n",
      "Epoch 19/200\n",
      "14/14 [==============================] - 0s 2ms/step - loss: 0.5611 - accuracy: 0.7809\n",
      "Epoch 20/200\n",
      "14/14 [==============================] - 0s 2ms/step - loss: 0.5589 - accuracy: 0.7847\n",
      "Epoch 21/200\n",
      "14/14 [==============================] - 0s 2ms/step - loss: 0.5520 - accuracy: 0.7849\n",
      "Epoch 22/200\n",
      "14/14 [==============================] - 0s 2ms/step - loss: 0.5455 - accuracy: 0.7859\n",
      "Epoch 23/200\n",
      "14/14 [==============================] - 0s 2ms/step - loss: 0.5377 - accuracy: 0.7860\n",
      "Epoch 24/200\n",
      "14/14 [==============================] - 0s 2ms/step - loss: 0.5329 - accuracy: 0.7854\n",
      "Epoch 25/200\n",
      "14/14 [==============================] - 0s 2ms/step - loss: 0.5313 - accuracy: 0.7847\n",
      "Epoch 26/200\n",
      "14/14 [==============================] - 0s 2ms/step - loss: 0.5213 - accuracy: 0.7941\n",
      "Epoch 27/200\n",
      "14/14 [==============================] - 0s 2ms/step - loss: 0.5211 - accuracy: 0.7909\n",
      "Epoch 28/200\n",
      "14/14 [==============================] - 0s 2ms/step - loss: 0.5113 - accuracy: 0.7917\n",
      "Epoch 29/200\n",
      "14/14 [==============================] - 0s 2ms/step - loss: 0.5106 - accuracy: 0.7957\n",
      "Epoch 30/200\n",
      "14/14 [==============================] - 0s 2ms/step - loss: 0.5097 - accuracy: 0.7934\n",
      "Epoch 31/200\n",
      "14/14 [==============================] - 0s 2ms/step - loss: 0.5067 - accuracy: 0.7926\n",
      "Epoch 32/200\n",
      "14/14 [==============================] - 0s 2ms/step - loss: 0.5010 - accuracy: 0.7957\n",
      "Epoch 33/200\n",
      "14/14 [==============================] - 0s 2ms/step - loss: 0.4976 - accuracy: 0.7976\n",
      "Epoch 34/200\n",
      "14/14 [==============================] - 0s 2ms/step - loss: 0.4968 - accuracy: 0.7946\n",
      "Epoch 35/200\n",
      "14/14 [==============================] - 0s 3ms/step - loss: 0.4954 - accuracy: 0.7973\n",
      "Epoch 36/200\n",
      "14/14 [==============================] - 0s 2ms/step - loss: 0.4904 - accuracy: 0.7986\n",
      "Epoch 37/200\n",
      "14/14 [==============================] - 0s 2ms/step - loss: 0.4872 - accuracy: 0.7984\n",
      "Epoch 38/200\n",
      "14/14 [==============================] - 0s 2ms/step - loss: 0.4855 - accuracy: 0.7970\n",
      "Epoch 39/200\n",
      "14/14 [==============================] - 0s 2ms/step - loss: 0.4854 - accuracy: 0.7999\n",
      "Epoch 40/200\n",
      "14/14 [==============================] - 0s 2ms/step - loss: 0.4798 - accuracy: 0.8013\n",
      "Epoch 41/200\n",
      "14/14 [==============================] - 0s 2ms/step - loss: 0.4783 - accuracy: 0.8007\n",
      "Epoch 42/200\n",
      "14/14 [==============================] - 0s 2ms/step - loss: 0.4751 - accuracy: 0.8023\n",
      "Epoch 43/200\n",
      "14/14 [==============================] - 0s 2ms/step - loss: 0.4751 - accuracy: 0.8040\n",
      "Epoch 44/200\n",
      "14/14 [==============================] - 0s 2ms/step - loss: 0.4741 - accuracy: 0.8004\n",
      "Epoch 45/200\n",
      "14/14 [==============================] - 0s 2ms/step - loss: 0.4706 - accuracy: 0.8019\n",
      "Epoch 46/200\n",
      "14/14 [==============================] - 0s 3ms/step - loss: 0.4700 - accuracy: 0.8034\n",
      "Epoch 47/200\n",
      "14/14 [==============================] - 0s 2ms/step - loss: 0.4681 - accuracy: 0.8036\n",
      "Epoch 48/200\n",
      "14/14 [==============================] - 0s 2ms/step - loss: 0.4630 - accuracy: 0.8030\n",
      "Epoch 49/200\n",
      "14/14 [==============================] - 0s 2ms/step - loss: 0.4631 - accuracy: 0.8041\n",
      "Epoch 50/200\n",
      "14/14 [==============================] - 0s 2ms/step - loss: 0.4600 - accuracy: 0.8046\n",
      "Epoch 51/200\n",
      "14/14 [==============================] - 0s 2ms/step - loss: 0.4605 - accuracy: 0.8064\n",
      "Epoch 52/200\n",
      "14/14 [==============================] - 0s 2ms/step - loss: 0.4579 - accuracy: 0.8061\n",
      "Epoch 53/200\n",
      "14/14 [==============================] - 0s 3ms/step - loss: 0.4607 - accuracy: 0.8036\n",
      "Epoch 54/200\n",
      "14/14 [==============================] - 0s 2ms/step - loss: 0.4554 - accuracy: 0.8044\n",
      "Epoch 55/200\n",
      "14/14 [==============================] - 0s 2ms/step - loss: 0.4575 - accuracy: 0.8051\n",
      "Epoch 56/200\n",
      "14/14 [==============================] - 0s 2ms/step - loss: 0.4542 - accuracy: 0.8043\n",
      "Epoch 57/200\n",
      "14/14 [==============================] - 0s 2ms/step - loss: 0.4534 - accuracy: 0.8066\n",
      "Epoch 58/200\n",
      "14/14 [==============================] - 0s 2ms/step - loss: 0.4520 - accuracy: 0.8053\n",
      "Epoch 59/200\n",
      "14/14 [==============================] - 0s 2ms/step - loss: 0.4497 - accuracy: 0.8080\n",
      "Epoch 60/200\n",
      "14/14 [==============================] - 0s 2ms/step - loss: 0.4454 - accuracy: 0.8129\n",
      "Epoch 61/200\n",
      "14/14 [==============================] - 0s 2ms/step - loss: 0.4433 - accuracy: 0.8104\n",
      "Epoch 62/200\n",
      "14/14 [==============================] - 0s 2ms/step - loss: 0.4458 - accuracy: 0.8110\n",
      "Epoch 63/200\n",
      "14/14 [==============================] - 0s 2ms/step - loss: 0.4446 - accuracy: 0.8101\n",
      "Epoch 64/200\n",
      "14/14 [==============================] - 0s 2ms/step - loss: 0.4466 - accuracy: 0.8069\n",
      "Epoch 65/200\n",
      "14/14 [==============================] - 0s 2ms/step - loss: 0.4418 - accuracy: 0.8064\n",
      "Epoch 66/200\n",
      "14/14 [==============================] - 0s 2ms/step - loss: 0.4417 - accuracy: 0.8116\n",
      "Epoch 67/200\n",
      "14/14 [==============================] - 0s 2ms/step - loss: 0.4386 - accuracy: 0.8133\n",
      "Epoch 68/200\n",
      "14/14 [==============================] - 0s 2ms/step - loss: 0.4409 - accuracy: 0.8136\n",
      "Epoch 69/200\n",
      "14/14 [==============================] - 0s 2ms/step - loss: 0.4426 - accuracy: 0.8081\n",
      "Epoch 70/200\n",
      "14/14 [==============================] - 0s 2ms/step - loss: 0.4376 - accuracy: 0.8126\n",
      "Epoch 71/200\n",
      "14/14 [==============================] - 0s 2ms/step - loss: 0.4392 - accuracy: 0.8111\n",
      "Epoch 72/200\n",
      "14/14 [==============================] - 0s 2ms/step - loss: 0.4379 - accuracy: 0.8106\n",
      "Epoch 73/200\n",
      "14/14 [==============================] - 0s 2ms/step - loss: 0.4373 - accuracy: 0.8123\n",
      "Epoch 74/200\n",
      "14/14 [==============================] - 0s 2ms/step - loss: 0.4372 - accuracy: 0.8096\n",
      "Epoch 75/200\n",
      "14/14 [==============================] - 0s 2ms/step - loss: 0.4347 - accuracy: 0.8150\n",
      "Epoch 76/200\n",
      "14/14 [==============================] - 0s 2ms/step - loss: 0.4326 - accuracy: 0.8173\n",
      "Epoch 77/200\n",
      "14/14 [==============================] - 0s 2ms/step - loss: 0.4334 - accuracy: 0.8140\n",
      "Epoch 78/200\n",
      "14/14 [==============================] - 0s 2ms/step - loss: 0.4329 - accuracy: 0.8166\n",
      "Epoch 79/200\n",
      "14/14 [==============================] - 0s 2ms/step - loss: 0.4315 - accuracy: 0.8139\n",
      "Epoch 80/200\n",
      "14/14 [==============================] - 0s 2ms/step - loss: 0.4299 - accuracy: 0.8133\n",
      "Epoch 81/200\n",
      "14/14 [==============================] - 0s 2ms/step - loss: 0.4301 - accuracy: 0.8150\n",
      "Epoch 82/200\n",
      "14/14 [==============================] - 0s 2ms/step - loss: 0.4316 - accuracy: 0.8159\n",
      "Epoch 83/200\n",
      "14/14 [==============================] - 0s 2ms/step - loss: 0.4304 - accuracy: 0.8144\n",
      "Epoch 84/200\n",
      "14/14 [==============================] - 0s 2ms/step - loss: 0.4269 - accuracy: 0.8154\n",
      "Epoch 85/200\n",
      "14/14 [==============================] - 0s 2ms/step - loss: 0.4304 - accuracy: 0.8177\n",
      "Epoch 86/200\n",
      "14/14 [==============================] - 0s 2ms/step - loss: 0.4267 - accuracy: 0.8150\n",
      "Epoch 87/200\n",
      "14/14 [==============================] - 0s 2ms/step - loss: 0.4300 - accuracy: 0.8170\n",
      "Epoch 88/200\n",
      "14/14 [==============================] - 0s 2ms/step - loss: 0.4243 - accuracy: 0.8221\n",
      "Epoch 89/200\n",
      "14/14 [==============================] - 0s 2ms/step - loss: 0.4261 - accuracy: 0.8196\n",
      "Epoch 90/200\n",
      "14/14 [==============================] - 0s 2ms/step - loss: 0.4251 - accuracy: 0.8197\n",
      "Epoch 91/200\n",
      "14/14 [==============================] - 0s 2ms/step - loss: 0.4277 - accuracy: 0.8141\n",
      "Epoch 92/200\n",
      "14/14 [==============================] - 0s 2ms/step - loss: 0.4293 - accuracy: 0.8227\n",
      "Epoch 93/200\n",
      "14/14 [==============================] - 0s 2ms/step - loss: 0.4254 - accuracy: 0.8196\n",
      "Epoch 94/200\n",
      "14/14 [==============================] - 0s 2ms/step - loss: 0.4240 - accuracy: 0.8194\n",
      "Epoch 95/200\n",
      "14/14 [==============================] - 0s 2ms/step - loss: 0.4205 - accuracy: 0.8243\n",
      "Epoch 96/200\n",
      "14/14 [==============================] - 0s 2ms/step - loss: 0.4235 - accuracy: 0.8211\n",
      "Epoch 97/200\n",
      "14/14 [==============================] - 0s 2ms/step - loss: 0.4240 - accuracy: 0.8203\n",
      "Epoch 98/200\n",
      "14/14 [==============================] - 0s 2ms/step - loss: 0.4186 - accuracy: 0.8220\n",
      "Epoch 99/200\n",
      "14/14 [==============================] - 0s 2ms/step - loss: 0.4219 - accuracy: 0.8229\n",
      "Epoch 100/200\n",
      "14/14 [==============================] - 0s 2ms/step - loss: 0.4195 - accuracy: 0.8217\n",
      "Epoch 101/200\n",
      "14/14 [==============================] - 0s 2ms/step - loss: 0.4194 - accuracy: 0.8217\n",
      "Epoch 102/200\n",
      "14/14 [==============================] - 0s 2ms/step - loss: 0.4172 - accuracy: 0.8216\n",
      "Epoch 103/200\n",
      "14/14 [==============================] - 0s 2ms/step - loss: 0.4200 - accuracy: 0.8271\n",
      "Epoch 104/200\n",
      "14/14 [==============================] - 0s 2ms/step - loss: 0.4204 - accuracy: 0.8246\n",
      "Epoch 105/200\n",
      "14/14 [==============================] - 0s 2ms/step - loss: 0.4153 - accuracy: 0.8237\n",
      "Epoch 106/200\n",
      "14/14 [==============================] - 0s 2ms/step - loss: 0.4167 - accuracy: 0.8221\n",
      "Epoch 107/200\n",
      "14/14 [==============================] - 0s 2ms/step - loss: 0.4168 - accuracy: 0.8257\n",
      "Epoch 108/200\n",
      "14/14 [==============================] - 0s 2ms/step - loss: 0.4149 - accuracy: 0.8251\n",
      "Epoch 109/200\n",
      "14/14 [==============================] - 0s 2ms/step - loss: 0.4158 - accuracy: 0.8240\n",
      "Epoch 110/200\n",
      "14/14 [==============================] - 0s 2ms/step - loss: 0.4173 - accuracy: 0.8236\n",
      "Epoch 111/200\n",
      "14/14 [==============================] - 0s 2ms/step - loss: 0.4144 - accuracy: 0.8261\n",
      "Epoch 112/200\n",
      "14/14 [==============================] - 0s 2ms/step - loss: 0.4147 - accuracy: 0.8263\n",
      "Epoch 113/200\n",
      "14/14 [==============================] - 0s 2ms/step - loss: 0.4103 - accuracy: 0.8263\n",
      "Epoch 114/200\n",
      "14/14 [==============================] - 0s 2ms/step - loss: 0.4203 - accuracy: 0.8264\n",
      "Epoch 115/200\n",
      "14/14 [==============================] - 0s 2ms/step - loss: 0.4159 - accuracy: 0.8261\n",
      "Epoch 116/200\n",
      "14/14 [==============================] - 0s 2ms/step - loss: 0.4102 - accuracy: 0.8294\n",
      "Epoch 117/200\n",
      "14/14 [==============================] - 0s 2ms/step - loss: 0.4103 - accuracy: 0.8266\n",
      "Epoch 118/200\n",
      "14/14 [==============================] - 0s 2ms/step - loss: 0.4081 - accuracy: 0.8306\n",
      "Epoch 119/200\n",
      "14/14 [==============================] - 0s 2ms/step - loss: 0.4136 - accuracy: 0.8259\n",
      "Epoch 120/200\n",
      "14/14 [==============================] - 0s 2ms/step - loss: 0.4104 - accuracy: 0.8290\n",
      "Epoch 121/200\n",
      "14/14 [==============================] - 0s 2ms/step - loss: 0.4031 - accuracy: 0.8323\n",
      "Epoch 122/200\n",
      "14/14 [==============================] - 0s 2ms/step - loss: 0.4091 - accuracy: 0.8294\n",
      "Epoch 123/200\n",
      "14/14 [==============================] - 0s 2ms/step - loss: 0.4057 - accuracy: 0.8291\n",
      "Epoch 124/200\n",
      "14/14 [==============================] - 0s 2ms/step - loss: 0.4089 - accuracy: 0.8301\n",
      "Epoch 125/200\n",
      "14/14 [==============================] - 0s 2ms/step - loss: 0.4056 - accuracy: 0.8286\n",
      "Epoch 126/200\n",
      "14/14 [==============================] - 0s 2ms/step - loss: 0.4080 - accuracy: 0.8319\n",
      "Epoch 127/200\n",
      "14/14 [==============================] - 0s 2ms/step - loss: 0.4077 - accuracy: 0.8333\n",
      "Epoch 128/200\n",
      "14/14 [==============================] - 0s 2ms/step - loss: 0.4084 - accuracy: 0.8301\n",
      "Epoch 129/200\n",
      "14/14 [==============================] - 0s 2ms/step - loss: 0.4006 - accuracy: 0.8317\n",
      "Epoch 130/200\n",
      "14/14 [==============================] - 0s 2ms/step - loss: 0.4040 - accuracy: 0.8314\n",
      "Epoch 131/200\n",
      "14/14 [==============================] - 0s 2ms/step - loss: 0.4072 - accuracy: 0.8313\n",
      "Epoch 132/200\n",
      "14/14 [==============================] - 0s 2ms/step - loss: 0.4032 - accuracy: 0.8350\n",
      "Epoch 133/200\n",
      "14/14 [==============================] - 0s 2ms/step - loss: 0.4067 - accuracy: 0.8309\n",
      "Epoch 134/200\n",
      "14/14 [==============================] - 0s 2ms/step - loss: 0.4015 - accuracy: 0.8330\n",
      "Epoch 135/200\n",
      "14/14 [==============================] - 0s 2ms/step - loss: 0.4072 - accuracy: 0.8307\n",
      "Epoch 136/200\n",
      "14/14 [==============================] - 0s 2ms/step - loss: 0.3986 - accuracy: 0.8339\n",
      "Epoch 137/200\n",
      "14/14 [==============================] - 0s 2ms/step - loss: 0.4036 - accuracy: 0.8336\n",
      "Epoch 138/200\n",
      "14/14 [==============================] - 0s 2ms/step - loss: 0.4037 - accuracy: 0.8319\n",
      "Epoch 139/200\n",
      "14/14 [==============================] - 0s 2ms/step - loss: 0.4032 - accuracy: 0.8317\n",
      "Epoch 140/200\n",
      "14/14 [==============================] - 0s 2ms/step - loss: 0.4022 - accuracy: 0.8371\n",
      "Epoch 141/200\n",
      "14/14 [==============================] - 0s 2ms/step - loss: 0.4019 - accuracy: 0.8313\n",
      "Epoch 142/200\n",
      "14/14 [==============================] - 0s 2ms/step - loss: 0.4020 - accuracy: 0.8330\n",
      "Epoch 143/200\n",
      "14/14 [==============================] - 0s 2ms/step - loss: 0.3987 - accuracy: 0.8346\n",
      "Epoch 144/200\n",
      "14/14 [==============================] - 0s 2ms/step - loss: 0.3930 - accuracy: 0.8387\n",
      "Epoch 145/200\n",
      "14/14 [==============================] - 0s 2ms/step - loss: 0.3988 - accuracy: 0.8367\n",
      "Epoch 146/200\n",
      "14/14 [==============================] - 0s 2ms/step - loss: 0.4037 - accuracy: 0.8343\n",
      "Epoch 147/200\n",
      "14/14 [==============================] - 0s 2ms/step - loss: 0.3977 - accuracy: 0.8333\n",
      "Epoch 148/200\n",
      "14/14 [==============================] - 0s 2ms/step - loss: 0.4025 - accuracy: 0.8354\n",
      "Epoch 149/200\n",
      "14/14 [==============================] - 0s 2ms/step - loss: 0.3968 - accuracy: 0.8401\n",
      "Epoch 150/200\n",
      "14/14 [==============================] - 0s 2ms/step - loss: 0.3962 - accuracy: 0.8374\n",
      "Epoch 151/200\n",
      "14/14 [==============================] - 0s 2ms/step - loss: 0.3994 - accuracy: 0.8356\n",
      "Epoch 152/200\n",
      "14/14 [==============================] - 0s 2ms/step - loss: 0.3977 - accuracy: 0.8363\n",
      "Epoch 153/200\n",
      "14/14 [==============================] - 0s 2ms/step - loss: 0.3963 - accuracy: 0.8390\n",
      "Epoch 154/200\n",
      "14/14 [==============================] - 0s 2ms/step - loss: 0.3959 - accuracy: 0.8363\n",
      "Epoch 155/200\n",
      "14/14 [==============================] - 0s 2ms/step - loss: 0.4016 - accuracy: 0.8347\n",
      "Epoch 156/200\n",
      "14/14 [==============================] - 0s 2ms/step - loss: 0.3972 - accuracy: 0.8384\n",
      "Epoch 157/200\n",
      "14/14 [==============================] - 0s 2ms/step - loss: 0.3901 - accuracy: 0.8394\n",
      "Epoch 158/200\n",
      "14/14 [==============================] - 0s 2ms/step - loss: 0.3911 - accuracy: 0.8411\n",
      "Epoch 159/200\n",
      "14/14 [==============================] - 0s 2ms/step - loss: 0.3968 - accuracy: 0.8373\n",
      "Epoch 160/200\n",
      "14/14 [==============================] - 0s 2ms/step - loss: 0.3946 - accuracy: 0.8387\n",
      "Epoch 161/200\n",
      "14/14 [==============================] - 0s 2ms/step - loss: 0.3941 - accuracy: 0.8393\n",
      "Epoch 162/200\n",
      "14/14 [==============================] - 0s 2ms/step - loss: 0.3934 - accuracy: 0.8387\n",
      "Epoch 163/200\n",
      "14/14 [==============================] - 0s 2ms/step - loss: 0.3984 - accuracy: 0.8387\n",
      "Epoch 164/200\n",
      "14/14 [==============================] - 0s 2ms/step - loss: 0.3884 - accuracy: 0.8407\n",
      "Epoch 165/200\n",
      "14/14 [==============================] - 0s 2ms/step - loss: 0.3896 - accuracy: 0.8431\n",
      "Epoch 166/200\n",
      "14/14 [==============================] - 0s 2ms/step - loss: 0.3936 - accuracy: 0.8390\n",
      "Epoch 167/200\n",
      "14/14 [==============================] - 0s 2ms/step - loss: 0.3938 - accuracy: 0.8401\n",
      "Epoch 168/200\n",
      "14/14 [==============================] - 0s 2ms/step - loss: 0.3920 - accuracy: 0.8390\n",
      "Epoch 169/200\n",
      "14/14 [==============================] - 0s 2ms/step - loss: 0.3913 - accuracy: 0.8417\n",
      "Epoch 170/200\n",
      "14/14 [==============================] - 0s 2ms/step - loss: 0.3945 - accuracy: 0.8376\n",
      "Epoch 171/200\n",
      "14/14 [==============================] - 0s 2ms/step - loss: 0.3874 - accuracy: 0.8404\n",
      "Epoch 172/200\n",
      "14/14 [==============================] - 0s 2ms/step - loss: 0.3922 - accuracy: 0.8419\n",
      "Epoch 173/200\n",
      "14/14 [==============================] - 0s 2ms/step - loss: 0.3863 - accuracy: 0.8423\n",
      "Epoch 174/200\n",
      "14/14 [==============================] - 0s 2ms/step - loss: 0.3917 - accuracy: 0.8390\n",
      "Epoch 175/200\n",
      "14/14 [==============================] - 0s 2ms/step - loss: 0.3912 - accuracy: 0.8431\n",
      "Epoch 176/200\n",
      "14/14 [==============================] - 0s 2ms/step - loss: 0.3948 - accuracy: 0.8406\n",
      "Epoch 177/200\n",
      "14/14 [==============================] - 0s 2ms/step - loss: 0.3895 - accuracy: 0.8437\n",
      "Epoch 178/200\n",
      "14/14 [==============================] - 0s 2ms/step - loss: 0.3890 - accuracy: 0.8391\n",
      "Epoch 179/200\n",
      "14/14 [==============================] - 0s 2ms/step - loss: 0.3915 - accuracy: 0.8394\n",
      "Epoch 180/200\n",
      "14/14 [==============================] - 0s 2ms/step - loss: 0.3893 - accuracy: 0.8431\n",
      "Epoch 181/200\n",
      "14/14 [==============================] - 0s 3ms/step - loss: 0.3924 - accuracy: 0.8393\n",
      "Epoch 182/200\n",
      "14/14 [==============================] - 0s 2ms/step - loss: 0.3938 - accuracy: 0.8373\n",
      "Epoch 183/200\n",
      "14/14 [==============================] - 0s 2ms/step - loss: 0.3891 - accuracy: 0.8379\n",
      "Epoch 184/200\n",
      "14/14 [==============================] - 0s 2ms/step - loss: 0.3866 - accuracy: 0.8404\n",
      "Epoch 185/200\n",
      "14/14 [==============================] - 0s 2ms/step - loss: 0.3871 - accuracy: 0.8407\n",
      "Epoch 186/200\n",
      "14/14 [==============================] - 0s 2ms/step - loss: 0.3874 - accuracy: 0.8390\n",
      "Epoch 187/200\n",
      "14/14 [==============================] - 0s 2ms/step - loss: 0.3881 - accuracy: 0.8421\n",
      "Epoch 188/200\n",
      "14/14 [==============================] - 0s 2ms/step - loss: 0.3923 - accuracy: 0.8361\n",
      "Epoch 189/200\n",
      "14/14 [==============================] - 0s 2ms/step - loss: 0.3899 - accuracy: 0.8419\n",
      "Epoch 190/200\n",
      "14/14 [==============================] - 0s 2ms/step - loss: 0.3899 - accuracy: 0.8397\n",
      "Epoch 191/200\n",
      "14/14 [==============================] - 0s 2ms/step - loss: 0.3858 - accuracy: 0.8430\n",
      "Epoch 192/200\n",
      "14/14 [==============================] - 0s 2ms/step - loss: 0.3887 - accuracy: 0.8383\n",
      "Epoch 193/200\n",
      "14/14 [==============================] - 0s 2ms/step - loss: 0.3871 - accuracy: 0.8411\n",
      "Epoch 194/200\n",
      "14/14 [==============================] - 0s 2ms/step - loss: 0.3866 - accuracy: 0.8441\n",
      "Epoch 195/200\n",
      "14/14 [==============================] - 0s 2ms/step - loss: 0.3831 - accuracy: 0.8424\n",
      "Epoch 196/200\n",
      "14/14 [==============================] - 0s 2ms/step - loss: 0.3866 - accuracy: 0.8399\n",
      "Epoch 197/200\n",
      "14/14 [==============================] - 0s 2ms/step - loss: 0.3917 - accuracy: 0.8386\n",
      "Epoch 198/200\n",
      "14/14 [==============================] - 0s 2ms/step - loss: 0.3866 - accuracy: 0.8387\n",
      "Epoch 199/200\n",
      "14/14 [==============================] - 0s 2ms/step - loss: 0.3821 - accuracy: 0.8420\n",
      "Epoch 200/200\n",
      "14/14 [==============================] - 0s 2ms/step - loss: 0.3869 - accuracy: 0.8439\n",
      "94/94 [==============================] - 0s 2ms/step - loss: 0.3763 - accuracy: 0.8503\n",
      "['loss', 'accuracy']\n",
      "[0.37629151344299316, 0.8503333330154419]\n"
     ]
    }
   ],
   "source": [
    "# Create model\n",
    "model1 = Sequential()\n",
    "\n",
    "# Add layers into the model\n",
    "model1.add(Dense(6, input_shape=(12,), activation='relu'))\n",
    "model1.add(Dropout(rate=0.1))\n",
    "model1.add(Dense(6, activation='relu'))\n",
    "model1.add(Dropout(rate=0.1))\n",
    "model1.add(Dense(1, activation='sigmoid'))\n",
    "\n",
    "# Create optimizer with defined learning rate\n",
    "opt1 = optimizers.Adamax(lr=0.001)\n",
    "\n",
    "# Compile the model\n",
    "model1.compile(optimizer=opt1, loss='binary_crossentropy', metrics=['accuracy'])\n",
    "\n",
    "# Train the model (Forward pass and backpropogation)\n",
    "model1.fit(x_train, y_train, batch_size=500, epochs=200, verbose=1)\n",
    "\n",
    "# Perform model evaluation\n",
    "result1 = model1.evaluate(x_test, y_test)\n",
    "\n",
    "print(model1.metrics_names)\n",
    "print(result1)"
   ]
  },
  {
   "cell_type": "code",
   "execution_count": 51,
   "metadata": {
    "colab": {
     "base_uri": "https://localhost:8080/",
     "height": 139
    },
    "executionInfo": {
     "elapsed": 9896,
     "status": "ok",
     "timestamp": 1602882528307,
     "user": {
      "displayName": "Sanjay Gupta",
      "photoUrl": "",
      "userId": "09251377476737457600"
     },
     "user_tz": 420
    },
    "id": "m4ecfDbRTig7",
    "outputId": "a8bf3c8b-d5dc-444e-f003-bf688f96ed6e"
   },
   "outputs": [
    {
     "name": "stdout",
     "output_type": "stream",
     "text": [
      "94/94 [==============================] - 0s 2ms/step - loss: 0.3763 - accuracy: 0.8503\n",
      "Accuracy:  0.8503333330154419\n",
      "---------------------------------------------------\n",
      "\n",
      "Confusion Matrix\n"
     ]
    },
    {
     "data": {
      "text/plain": [
       "array([[2312,   69],\n",
       "       [ 380,  239]])"
      ]
     },
     "execution_count": 51,
     "metadata": {
      "tags": []
     },
     "output_type": "execute_result"
    }
   ],
   "source": [
    "y_pred_cls = model1.predict_classes(x_test, batch_size=200, verbose=0)\n",
    "y_pred = model1.predict(x_test, batch_size=200, verbose=0)\n",
    "# print(y_pred_cls)\n",
    "# print('-------------------------------')\n",
    "# print(y_pred)\n",
    "\n",
    "print('Accuracy: ', model1.evaluate(x_test, y_test)[1])\n",
    "print('---------------------------------------------------')\n",
    "print()\n",
    "print('Confusion Matrix')\n",
    "confusion_matrix(y_test, y_pred_cls)"
   ]
  }
 ],
 "metadata": {
  "accelerator": "GPU",
  "colab": {
   "authorship_tag": "ABX9TyNuDEOIAx7fK1ua0dnScBmt",
   "collapsed_sections": [],
   "name": "M5.ipynb",
   "provenance": []
  },
  "kernelspec": {
   "display_name": "Python 3",
   "language": "python",
   "name": "python3"
  },
  "language_info": {
   "codemirror_mode": {
    "name": "ipython",
    "version": 3
   },
   "file_extension": ".py",
   "mimetype": "text/x-python",
   "name": "python",
   "nbconvert_exporter": "python",
   "pygments_lexer": "ipython3",
   "version": "3.7.3"
  }
 },
 "nbformat": 4,
 "nbformat_minor": 1
}
